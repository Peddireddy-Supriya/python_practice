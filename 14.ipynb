{
 "cells": [
  {
   "cell_type": "code",
   "execution_count": null,
   "metadata": {},
   "outputs": [],
   "source": [
    "#Generators\n",
    "#generators are the functions ,that generates the sequence of values \n",
    "#saving memory and increasing performance\n"
   ]
  },
  {
   "cell_type": "code",
   "execution_count": 18,
   "metadata": {},
   "outputs": [
    {
     "name": "stdout",
     "output_type": "stream",
     "text": [
      "<class 'generator'>\n"
     ]
    }
   ],
   "source": [
    "def gen():\n",
    "    yield'a'\n",
    "    yield'b'\n",
    "    yield 2\n",
    "g=gen()\n",
    "print(type(g))"
   ]
  },
  {
   "cell_type": "code",
   "execution_count": 1,
   "metadata": {},
   "outputs": [
    {
     "name": "stdout",
     "output_type": "stream",
     "text": [
      "6 X 1=6\n",
      "6 X 2=12\n",
      "6 X 3=18\n",
      "6 X 4=24\n",
      "6 X 5=30\n",
      "6 X 6=36\n",
      "6 X 7=42\n",
      "6 X 8=48\n",
      "6 X 9=54\n",
      "6 X 10=60\n"
     ]
    }
   ],
   "source": [
    "def table (num):\n",
    "    for i in range (1,11):\n",
    "        print(f'{num} X {i}={num*i}')\n",
    "table(6)"
   ]
  },
  {
   "cell_type": "code",
   "execution_count": 2,
   "metadata": {},
   "outputs": [
    {
     "name": "stdout",
     "output_type": "stream",
     "text": [
      "6 X 1=6\n"
     ]
    }
   ],
   "source": [
    "def table (num):\n",
    "    for i in range (1,11):\n",
    "        return(f'{num} X {i}={num*i}')#with the return we can return only one \n",
    "output=table(6)\n",
    "print(output)"
   ]
  },
  {
   "cell_type": "code",
   "execution_count": 4,
   "metadata": {},
   "outputs": [
    {
     "name": "stdout",
     "output_type": "stream",
     "text": [
      "6 X 1=6\n",
      "6 X 2=12\n",
      "6 X 3=18\n",
      "6 X 4=24\n",
      "6 X 5=30\n",
      "6 X 6=36\n",
      "6 X 7=42\n",
      "6 X 8=48\n",
      "6 X 9=54\n",
      "6 X 10=60\n"
     ]
    }
   ],
   "source": [
    "def table (num):\n",
    "    for i in range (1,11):\n",
    "        yield(f'{num} X {i}={num*i}')#instead of return we can use \"yield\"it is a generator to print all sequence values at a time \n",
    "output=table(6)\n",
    "for values in output:\n",
    "    print(values)"
   ]
  },
  {
   "cell_type": "code",
   "execution_count": 17,
   "metadata": {},
   "outputs": [
    {
     "name": "stdout",
     "output_type": "stream",
     "text": [
      "6 X 1=6\n",
      "6 X 2=12\n",
      "6 X 3=18\n",
      "6 X 4=24\n",
      "6 X 5=30\n",
      "6 X 6=36\n",
      "6 X 7=42\n",
      "6 X 8=48\n",
      "6 X 9=54\n",
      "6 X 10=60\n"
     ]
    }
   ],
   "source": [
    "def table(num):\n",
    "    mylist =[]\n",
    "    for i in range(1, 11):\n",
    "        mylist.append(f'{num} X {i}={num*i}')\n",
    "    return mylist\n",
    "\n",
    "output = table(6)\n",
    "for value in output:\n",
    "    print(value)"
   ]
  }
 ],
 "metadata": {
  "kernelspec": {
   "display_name": "Python 3",
   "language": "python",
   "name": "python3"
  },
  "language_info": {
   "codemirror_mode": {
    "name": "ipython",
    "version": 3
   },
   "file_extension": ".py",
   "mimetype": "text/x-python",
   "name": "python",
   "nbconvert_exporter": "python",
   "pygments_lexer": "ipython3",
   "version": "3.12.3"
  }
 },
 "nbformat": 4,
 "nbformat_minor": 2
}
