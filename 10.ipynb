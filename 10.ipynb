{
 "cells": [
  {
   "cell_type": "code",
   "execution_count": 10,
   "metadata": {},
   "outputs": [
    {
     "name": "stdout",
     "output_type": "stream",
     "text": [
      "BBBBBB\n",
      "CCCCC\n",
      "DDDD\n",
      "EEE\n",
      "FF\n",
      "G\n",
      "\n"
     ]
    }
   ],
   "source": [
    "n=int(input(\"enter rows:\"))\n",
    "for i in range (1,n+2):\n",
    "        for j in range(1,n+2-i):\n",
    "            print(chr(65+i), end=\"\")\n",
    "        print()"
   ]
  },
  {
   "cell_type": "code",
   "execution_count": 12,
   "metadata": {},
   "outputs": [
    {
     "name": "stdout",
     "output_type": "stream",
     "text": [
      "ABCDEFGH\n",
      "ABCDEFG\n",
      "ABCDEF\n",
      "ABCDE\n",
      "ABCD\n",
      "ABC\n",
      "AB\n",
      "A\n"
     ]
    }
   ],
   "source": [
    "n=int(input(\"enter rows:\"))\n",
    "for i in range (0,n+2):\n",
    "        for j in range(0,n+2-i):\n",
    "            print(chr(65+j), end=\"\")\n",
    "        print()"
   ]
  },
  {
   "cell_type": "code",
   "execution_count": 18,
   "metadata": {},
   "outputs": [
    {
     "name": "stdout",
     "output_type": "stream",
     "text": [
      "******\n",
      "*****\n",
      "****\n",
      "***\n",
      "**\n",
      "*\n"
     ]
    }
   ],
   "source": [
    "n=int(input(\"enter rows:\"))\n",
    "for i in range (1,n+1):\n",
    "        for j in range(1,n+2-i):\n",
    "            print(\"*\" ,end=\"\")\n",
    "        print()"
   ]
  },
  {
   "cell_type": "code",
   "execution_count": 34,
   "metadata": {},
   "outputs": [
    {
     "name": "stdout",
     "output_type": "stream",
     "text": [
      "2222222\n",
      "333333\n",
      "44444\n",
      "5555\n",
      "666\n",
      "77\n",
      "8\n",
      "\n",
      "\n"
     ]
    }
   ],
   "source": [
    "n=int(input(\"enter rows:\"))\n",
    "for i in range (2,n+2):\n",
    "        for j in range(2,n+2-i):\n",
    "            print(i, end=\"\")\n",
    "        print()"
   ]
  },
  {
   "cell_type": "code",
   "execution_count": 28,
   "metadata": {},
   "outputs": [
    {
     "name": "stdout",
     "output_type": "stream",
     "text": [
      "12345\n",
      "1234\n",
      "123\n",
      "12\n",
      "1\n",
      "\n"
     ]
    }
   ],
   "source": [
    "n=int(input(\"enter rows:\"))\n",
    "for i in range (1,n+1):\n",
    "        for j in range(1,n+1-i):\n",
    "            print(j, end=\"\")\n",
    "        print()"
   ]
  }
 ],
 "metadata": {
  "kernelspec": {
   "display_name": "Python 3",
   "language": "python",
   "name": "python3"
  },
  "language_info": {
   "codemirror_mode": {
    "name": "ipython",
    "version": 3
   },
   "file_extension": ".py",
   "mimetype": "text/x-python",
   "name": "python",
   "nbconvert_exporter": "python",
   "pygments_lexer": "ipython3",
   "version": "3.12.3"
  }
 },
 "nbformat": 4,
 "nbformat_minor": 2
}
