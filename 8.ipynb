{
 "cells": [
  {
   "cell_type": "code",
   "execution_count": 6,
   "metadata": {},
   "outputs": [
    {
     "name": "stdout",
     "output_type": "stream",
     "text": [
      "1 1 1 1 1 \n",
      "2 2 2 2 2 \n",
      "3 3 3 3 3 \n",
      "4 4 4 4 4 \n",
      "5 5 5 5 5 \n"
     ]
    }
   ],
   "source": [
    "#programmes \n",
    "n=int(input(\"Enter number of rows: \"))\n",
    "for i in range(1,n+1):\n",
    "    for j in range (1,n+1):\n",
    "        print(i,end=\" \")\n",
    "    print()"
   ]
  },
  {
   "cell_type": "code",
   "execution_count": 8,
   "metadata": {},
   "outputs": [
    {
     "name": "stdout",
     "output_type": "stream",
     "text": [
      "1 2 3 4 5 \n",
      "1 2 3 4 5 \n",
      "1 2 3 4 5 \n",
      "1 2 3 4 5 \n",
      "1 2 3 4 5 \n"
     ]
    }
   ],
   "source": [
    "n=int(input(\"Enter number \"))\n",
    "for i in range(1,n+1):\n",
    "    for j in range (1,n+1):\n",
    "        print(j,end=\" \")\n",
    "    print()"
   ]
  },
  {
   "cell_type": "code",
   "execution_count": 7,
   "metadata": {},
   "outputs": [
    {
     "name": "stdout",
     "output_type": "stream",
     "text": [
      "A A A A A A \n",
      "B B B B B B \n",
      "C C C C C C \n",
      "D D D D D D \n",
      "E E E E E E \n",
      "F F F F F F \n"
     ]
    }
   ],
   "source": [
    "n=int(input(\"Enter number \"))\n",
    "for i in range(1,n+1):\n",
    "    for j in range (1,n+1):\n",
    "        print(chr(64+i),end=\" \")\n",
    "    print()"
   ]
  },
  {
   "cell_type": "code",
   "execution_count": 16,
   "metadata": {},
   "outputs": [
    {
     "name": "stdout",
     "output_type": "stream",
     "text": [
      "A B C D E F \n",
      "A B C D E F \n",
      "A B C D E F \n",
      "A B C D E F \n",
      "A B C D E F \n",
      "A B C D E F \n"
     ]
    }
   ],
   "source": [
    "n=int(input(\"Enter number \"))\n",
    "for i in range(1,n+1):\n",
    "    for j in range (1,n+1):\n",
    "        print(chr(64+j),end=\" \")\n",
    "    print()"
   ]
  },
  {
   "cell_type": "code",
   "execution_count": 22,
   "metadata": {},
   "outputs": [
    {
     "name": "stdout",
     "output_type": "stream",
     "text": [
      "1 1 1 1 1 1 1 1 1 \n",
      "2 2 2 2 2 2 2 2 2 \n",
      "3 3 3 3 3 3 3 3 3 \n",
      "4 4 4 4 4 4 4 4 4 \n",
      "5 5 5 5 5 5 5 5 5 \n",
      "6 6 6 6 6 6 6 6 6 \n"
     ]
    }
   ],
   "source": [
    "n=int(input(\"Enter number \"))\n",
    "for i in range(1,n+1):\n",
    "    for j in range (1,n+4):\n",
    "        print(i,end=\" \")\n",
    "    print()"
   ]
  },
  {
   "cell_type": "code",
   "execution_count": 37,
   "metadata": {},
   "outputs": [
    {
     "name": "stdout",
     "output_type": "stream",
     "text": [
      "2 2 2 2 \n",
      "3 3 3 3 \n",
      "4 4 4 4 \n",
      "5 5 5 5 \n"
     ]
    }
   ],
   "source": [
    "n=int(input(\"Enter number \"))\n",
    "for i in range(2,n+1):\n",
    "    for j in range (2,n+1):\n",
    "        print(i,end=\" \")\n",
    "    print()"
   ]
  },
  {
   "cell_type": "code",
   "execution_count": 47,
   "metadata": {},
   "outputs": [
    {
     "name": "stdout",
     "output_type": "stream",
     "text": [
      "*****\n",
      "*****\n",
      "*****\n",
      "*****\n",
      "*****\n",
      "*****\n"
     ]
    }
   ],
   "source": [
    "n=int( input(\"enter the number of rows\"))\n",
    "for i in range (2,n+3):\n",
    "    print(\"*\"*n)"
   ]
  }
 ],
 "metadata": {
  "kernelspec": {
   "display_name": "Python 3",
   "language": "python",
   "name": "python3"
  },
  "language_info": {
   "codemirror_mode": {
    "name": "ipython",
    "version": 3
   },
   "file_extension": ".py",
   "mimetype": "text/x-python",
   "name": "python",
   "nbconvert_exporter": "python",
   "pygments_lexer": "ipython3",
   "version": "3.12.3"
  }
 },
 "nbformat": 4,
 "nbformat_minor": 2
}
