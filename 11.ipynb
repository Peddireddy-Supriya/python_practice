{
 "cells": [
  {
   "cell_type": "code",
   "execution_count": null,
   "metadata": {},
   "outputs": [],
   "source": [
    "#types of variables in python \n",
    "#they are two types of variables in python\n",
    "#global variable , local variable   "
   ]
  },
  {
   "cell_type": "code",
   "execution_count": 2,
   "metadata": {},
   "outputs": [
    {
     "name": "stdout",
     "output_type": "stream",
     "text": [
      "10\n"
     ]
    }
   ],
   "source": [
    "#the variable which was declared outside of the function.this variable can be accessed by the all the functions of the modules \n",
    "a=10\n",
    "def f1():\n",
    "    print(a)\n",
    "f1()"
   ]
  },
  {
   "cell_type": "code",
   "execution_count": 5,
   "metadata": {},
   "outputs": [
    {
     "name": "stdout",
     "output_type": "stream",
     "text": [
      "hello priya very good morning\n"
     ]
    }
   ],
   "source": [
    "a=\"very good morning\"\n",
    "def f1(name):\n",
    "    print(\"hello\",name,a)\n",
    "f1(\"priya\")"
   ]
  },
  {
   "cell_type": "code",
   "execution_count": 13,
   "metadata": {},
   "outputs": [
    {
     "name": "stdout",
     "output_type": "stream",
     "text": [
      "The area of the circle is : 78.5\n"
     ]
    }
   ],
   "source": [
    "PI=3.14\n",
    "def f2(r):\n",
    "    print(\"The area of the circle is :\" ,r*r*PI)\n",
    "f2(5)"
   ]
  },
  {
   "cell_type": "code",
   "execution_count": 14,
   "metadata": {},
   "outputs": [
    {
     "name": "stdout",
     "output_type": "stream",
     "text": [
      "the area of ellipse is 78.53981633974483\n"
     ]
    }
   ],
   "source": [
    "import math\n",
    "radius=float(input(\"the area of circle is:\"))\n",
    "area=math.pi*radius**2\n",
    "print(\"the area of ellipse is\",area)"
   ]
  },
  {
   "cell_type": "code",
   "execution_count": null,
   "metadata": {},
   "outputs": [],
   "source": [
    "#local variable\n",
    "#the variables which are declared inside a function"
   ]
  },
  {
   "cell_type": "code",
   "execution_count": 16,
   "metadata": {},
   "outputs": [
    {
     "name": "stdout",
     "output_type": "stream",
     "text": [
      "the sum of a and b is : 26\n"
     ]
    }
   ],
   "source": [
    "def f2(b):\n",
    "    a=20\n",
    "    print(\"the sum of a and b is :\",a+b)\n",
    "f2(6)"
   ]
  },
  {
   "cell_type": "code",
   "execution_count": 20,
   "metadata": {},
   "outputs": [
    {
     "name": "stdout",
     "output_type": "stream",
     "text": [
      "the sum of a and b is : 26\n"
     ]
    },
    {
     "ename": "TypeError",
     "evalue": "can only concatenate str (not \"int\") to str",
     "output_type": "error",
     "traceback": [
      "\u001b[1;31m---------------------------------------------------------------------------\u001b[0m",
      "\u001b[1;31mTypeError\u001b[0m                                 Traceback (most recent call last)",
      "Cell \u001b[1;32mIn[20], line 7\u001b[0m\n\u001b[0;32m      5\u001b[0m     \u001b[38;5;28mprint\u001b[39m(\u001b[38;5;124m\"\u001b[39m\u001b[38;5;124mthe sum of a and b is \u001b[39m\u001b[38;5;124m\"\u001b[39m,a\u001b[38;5;241m+\u001b[39mb)    \n\u001b[0;32m      6\u001b[0m f2(\u001b[38;5;241m6\u001b[39m)\n\u001b[1;32m----> 7\u001b[0m \u001b[43mf3\u001b[49m\u001b[43m(\u001b[49m\u001b[38;5;241;43m4\u001b[39;49m\u001b[43m)\u001b[49m\n",
      "Cell \u001b[1;32mIn[20], line 5\u001b[0m, in \u001b[0;36mf3\u001b[1;34m(b)\u001b[0m\n\u001b[0;32m      4\u001b[0m \u001b[38;5;28;01mdef\u001b[39;00m \u001b[38;5;21mf3\u001b[39m(b):\n\u001b[1;32m----> 5\u001b[0m     \u001b[38;5;28mprint\u001b[39m(\u001b[38;5;124m\"\u001b[39m\u001b[38;5;124mthe sum of a and b is \u001b[39m\u001b[38;5;124m\"\u001b[39m,\u001b[43ma\u001b[49m\u001b[38;5;241;43m+\u001b[39;49m\u001b[43mb\u001b[49m)\n",
      "\u001b[1;31mTypeError\u001b[0m: can only concatenate str (not \"int\") to str"
     ]
    }
   ],
   "source": [
    "def f2(b):\n",
    "    a=20#here a is the local variable  only belongs to this function f2 not for f3\n",
    "    print(\"the sum of a and b is :\",a+b)\n",
    "def f3(b):\n",
    "    print(\"the sum of a and b is \",a+b)    \n",
    "f2(6)\n",
    "f3(4)"
   ]
  },
  {
   "cell_type": "code",
   "execution_count": 21,
   "metadata": {},
   "outputs": [
    {
     "name": "stdout",
     "output_type": "stream",
     "text": [
      "hi madhu  wishing you a happy birthday you are going to enter into the  22\n"
     ]
    }
   ],
   "source": [
    "wishes=\" wishing you a happy birthday\"\n",
    "def day(name,age):\n",
    "    print(\"hi\",name,wishes,\"you are going to enter into the \",age)\n",
    "day(\"madhu\",22)"
   ]
  }
 ],
 "metadata": {
  "kernelspec": {
   "display_name": "Python 3",
   "language": "python",
   "name": "python3"
  },
  "language_info": {
   "codemirror_mode": {
    "name": "ipython",
    "version": 3
   },
   "file_extension": ".py",
   "mimetype": "text/x-python",
   "name": "python",
   "nbconvert_exporter": "python",
   "pygments_lexer": "ipython3",
   "version": "3.12.3"
  }
 },
 "nbformat": 4,
 "nbformat_minor": 2
}
