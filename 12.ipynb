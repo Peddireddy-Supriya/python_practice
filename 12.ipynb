{
 "cells": [
  {
   "cell_type": "code",
   "execution_count": null,
   "metadata": {},
   "outputs": [],
   "source": [
    "#function aliasing\n",
    "# for the existing function we can give the another name ,i.e is called function aliasing "
   ]
  },
  {
   "cell_type": "code",
   "execution_count": 9,
   "metadata": {},
   "outputs": [
    {
     "name": "stdout",
     "output_type": "stream",
     "text": [
      "Hi i am  madhu\n"
     ]
    }
   ],
   "source": [
    "def wish (name):\n",
    "    print(\"Hi i am \",name );\n",
    "wish(\"madhu\")"
   ]
  },
  {
   "cell_type": "code",
   "execution_count": 15,
   "metadata": {},
   "outputs": [
    {
     "name": "stdout",
     "output_type": "stream",
     "text": [
      "Hi i am  nani\n",
      "Hi i am  john\n"
     ]
    }
   ],
   "source": [
    "def wish (name):\n",
    "    print(\"Hi i am \",name );\n",
    "greetings=wish\n",
    "wish(\"nani\")\n",
    "greetings(\"john\")\n"
   ]
  },
  {
   "cell_type": "code",
   "execution_count": 18,
   "metadata": {},
   "outputs": [
    {
     "name": "stdout",
     "output_type": "stream",
     "text": [
      "Hi i am  madhu\n",
      "Hi i am  tom\n",
      "2594578283904\n",
      "2594578283904\n",
      "<class 'function'>\n"
     ]
    }
   ],
   "source": [
    "def wish (name):\n",
    "    print(\"Hi i am \",name );\n",
    "greetings=wish\n",
    "wish(\"madhu\")\n",
    "greetings(\"tom\")\n",
    "print(id(greetings))\n",
    "print(id(wish))\n",
    "print(type(wish))"
   ]
  },
  {
   "cell_type": "code",
   "execution_count": 21,
   "metadata": {},
   "outputs": [
    {
     "name": "stdout",
     "output_type": "stream",
     "text": [
      "inner function \n",
      "outer function in inner function\n",
      "outer function\n"
     ]
    }
   ],
   "source": [
    "def outer():\n",
    "    print(\"outer function\")\n",
    "def inner():\n",
    "    print(\"inner function \")\n",
    "    print(\"outer function in inner function\")\n",
    "inner()\n",
    "outer()\n"
   ]
  },
  {
   "cell_type": "code",
   "execution_count": 71,
   "metadata": {},
   "outputs": [
    {
     "name": "stdout",
     "output_type": "stream",
     "text": [
      "outer function\n",
      "inner function \n",
      "outer function in inner function\n"
     ]
    }
   ],
   "source": [
    "def outer():\n",
    "    print(\"outer function\")\n",
    "def inner():\n",
    "    print(\"inner function \")\n",
    "    print(\"outer function in inner function\")\n",
    "f1=outer()\n",
    "inner()\n",
    "\n",
    "\n"
   ]
  }
 ],
 "metadata": {
  "kernelspec": {
   "display_name": "Python 3",
   "language": "python",
   "name": "python3"
  },
  "language_info": {
   "codemirror_mode": {
    "name": "ipython",
    "version": 3
   },
   "file_extension": ".py",
   "mimetype": "text/x-python",
   "name": "python",
   "nbconvert_exporter": "python",
   "pygments_lexer": "ipython3",
   "version": "3.12.3"
  }
 },
 "nbformat": 4,
 "nbformat_minor": 2
}
