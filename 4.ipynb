{
 "cells": [
  {
   "cell_type": "code",
   "execution_count": null,
   "metadata": {},
   "outputs": [],
   "source": []
  },
  {
   "cell_type": "code",
   "execution_count": null,
   "metadata": {},
   "outputs": [],
   "source": [
    "#conditional statements "
   ]
  },
  {
   "cell_type": "code",
   "execution_count": 6,
   "metadata": {},
   "outputs": [
    {
     "name": "stdout",
     "output_type": "stream",
     "text": [
      "hello good morning \n",
      "how are you?\n"
     ]
    }
   ],
   "source": [
    "#if statement\n",
    "#if condition : statement\n",
    "name=input(\"Enter name :\")\n",
    "if name==\"durga\":\n",
    "    print(\"hello good morning \")\n",
    "    print(\"how are you?\")"
   ]
  },
  {
   "cell_type": "code",
   "execution_count": 9,
   "metadata": {},
   "outputs": [
    {
     "name": "stdout",
     "output_type": "stream",
     "text": [
      "your age is 20\n"
     ]
    }
   ],
   "source": [
    "age=input(\"Enter age\")\n",
    "if age==\"20\":\n",
    "    print(\"your age is 20\")"
   ]
  },
  {
   "cell_type": "code",
   "execution_count": null,
   "metadata": {},
   "outputs": [],
   "source": [
    "#if else \n",
    "\"\"\"if condition:\n",
    "    statement1\n",
    "else\n",
    "    statement2 \"\"\""
   ]
  },
  {
   "cell_type": "code",
   "execution_count": 12,
   "metadata": {},
   "outputs": [
    {
     "name": "stdout",
     "output_type": "stream",
     "text": [
      "you have a vote\n"
     ]
    }
   ],
   "source": [
    "age=input(\"Enter age:\")\n",
    "if age >= \"18\":\n",
    "    print(\"you have a vote\")\n",
    "else:\n",
    "    print(\"you don't have a vote\")"
   ]
  },
  {
   "cell_type": "code",
   "execution_count": null,
   "metadata": {},
   "outputs": [],
   "source": [
    "#if elif else\n",
    "'''if condition1:\n",
    "    statement1\n",
    "condition2:\n",
    "    statement2\n",
    "condition3:\n",
    "    statement3 '''"
   ]
  },
  {
   "cell_type": "code",
   "execution_count": 33,
   "metadata": {},
   "outputs": [
    {
     "name": "stdout",
     "output_type": "stream",
     "text": [
      "other brands not recommended\n"
     ]
    }
   ],
   "source": [
    "brand=input(\"Enter brand\")\n",
    "if brand==\"kfc\":\n",
    "    print(\" its taste good\")\n",
    "elif brand==\"rc\":\n",
    "    print(\"its a children brand \")\n",
    "elif brand==\"FO\":\n",
    "    print(\"Buy one get one free \")\n",
    "else:\n",
    "    print(\"other brands not recommended\")\n"
   ]
  },
  {
   "cell_type": "code",
   "execution_count": 36,
   "metadata": {},
   "outputs": [
    {
     "name": "stdout",
     "output_type": "stream",
     "text": [
      "three\n"
     ]
    }
   ],
   "source": [
    "# input function will take any input as string so we have to convert, thee string into int \n",
    "num=int(input(\"Enter digits from 0 to 4:\"))\n",
    "if num==0:\n",
    "    print(\"zero\")\n",
    "elif  num==1:\n",
    "    print(\"one\")\n",
    "elif  num==2:\n",
    "    print(\"two\")\n",
    "elif  num==3:\n",
    "    print(\"three\")\n",
    "elif  num==4:\n",
    "    print(\"four\")\n",
    "else:\n",
    "    print(\"please enter digits from o to 4\")\n"
   ]
  }
 ],
 "metadata": {
  "kernelspec": {
   "display_name": "Python 3",
   "language": "python",
   "name": "python3"
  },
  "language_info": {
   "codemirror_mode": {
    "name": "ipython",
    "version": 3
   },
   "file_extension": ".py",
   "mimetype": "text/x-python",
   "name": "python",
   "nbconvert_exporter": "python",
   "pygments_lexer": "ipython3",
   "version": "3.12.3"
  }
 },
 "nbformat": 4,
 "nbformat_minor": 2
}
