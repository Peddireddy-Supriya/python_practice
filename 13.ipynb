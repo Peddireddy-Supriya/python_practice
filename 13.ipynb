{
 "cells": [
  {
   "cell_type": "code",
   "execution_count": null,
   "metadata": {},
   "outputs": [],
   "source": [
    "#decorators are a powerful feature in python that allows you to modify or extend the behavior of functions or classes without modifying their source code directly \n",
    "#that can add additional functions to the existing function "
   ]
  },
  {
   "cell_type": "code",
   "execution_count": 15,
   "metadata": {},
   "outputs": [
    {
     "name": "stdout",
     "output_type": "stream",
     "text": [
      "hello sunny nice to meet you\n",
      "how are you \n",
      "how are you \n"
     ]
    }
   ],
   "source": [
    "def dec(func):\n",
    "    def inner(name):\n",
    "        if name ==\"sunny\":\n",
    "            print(\"hello sunny nice to meet you\")\n",
    "        func(name)\n",
    "    return inner \n",
    "@dec\n",
    "def wish(name):\n",
    "    print(\"how are you \")\n",
    "wish(\"sunny\")\n",
    "wish(\"priya\")\n"
   ]
  },
  {
   "cell_type": "code",
   "execution_count": 17,
   "metadata": {},
   "outputs": [
    {
     "name": "stdout",
     "output_type": "stream",
     "text": [
      "how are you,i hope you are good  \n"
     ]
    }
   ],
   "source": [
    "def dec(func):\n",
    "    def inner(name):\n",
    "        if name ==\"sunny\":\n",
    "            print(\"hello sunny nice to meet you\")\n",
    "        func(name)\n",
    "    return inner \n",
    "@dec\n",
    "def wish(name):\n",
    "    print(\"how are you,i hope you are good  \")\n",
    "wish(\"priya\")\n"
   ]
  },
  {
   "cell_type": "code",
   "execution_count": 19,
   "metadata": {},
   "outputs": [
    {
     "name": "stdout",
     "output_type": "stream",
     "text": [
      "14\n"
     ]
    }
   ],
   "source": [
    "def been(f):\n",
    "    def link(x,y):\n",
    "        if (x%2==0,y%2==0):\n",
    "            f(x,y)\n",
    "        else:\n",
    "            print(\"enter correct numbers\")\n",
    "    return link\n",
    "@been\n",
    "def sum(a,b):\n",
    "    print(a+b)\n",
    "sum(6,8)"
   ]
  },
  {
   "cell_type": "code",
   "execution_count": 26,
   "metadata": {},
   "outputs": [
    {
     "name": "stdout",
     "output_type": "stream",
     "text": [
      "enter correct numbers\n",
      "10\n"
     ]
    }
   ],
   "source": [
    "def been(f):\n",
    "    def link(x,y):\n",
    "        if x%2==0 and y%2==0:\n",
    "            f(x,y)\n",
    "        else:\n",
    "            print(\"enter correct numbers\")\n",
    "    return link\n",
    "@been\n",
    "def sum(a,b):\n",
    "    print(a+b)\n",
    "sum(6,9)\n",
    "sum(4,6)"
   ]
  },
  {
   "cell_type": "code",
   "execution_count": 29,
   "metadata": {},
   "outputs": [
    {
     "name": "stdout",
     "output_type": "stream",
     "text": [
      "14\n",
      "hi how are you\n"
     ]
    }
   ],
   "source": [
    "def been(f):\n",
    "    def link(x,y):\n",
    "        if (x%2==0,y%2==0):\n",
    "            f(x,y)\n",
    "        else:\n",
    "            print(\"enter correct numbers\")\n",
    "    return link\n",
    "@been\n",
    "def sum(a,b):#a function with decorator \n",
    "    print(a+b)\n",
    "sum(6,8)\n",
    "\n",
    "def wish(name):#a function without decorator \n",
    "    print(\"hi how are you\")\n",
    "wish(\"sai\")"
   ]
  },
  {
   "cell_type": "code",
   "execution_count": 40,
   "metadata": {},
   "outputs": [
    {
     "name": "stdout",
     "output_type": "stream",
     "text": [
      "login successful\n",
      "please login first\n"
     ]
    }
   ],
   "source": [
    "def  login_required(f1):\n",
    "    def inner(name,is_login):\n",
    "        if is_login== True:\n",
    "            print(\"login successful\")\n",
    "        else:\n",
    "            print(\"please login first\")\n",
    "    return inner\n",
    "@login_required\n",
    "def show(name):\n",
    "    print(\"welcome\",name)\n",
    "show(\"sai\",True)\n",
    "show(\"sai\",False)"
   ]
  }
 ],
 "metadata": {
  "kernelspec": {
   "display_name": "Python 3",
   "language": "python",
   "name": "python3"
  },
  "language_info": {
   "codemirror_mode": {
    "name": "ipython",
    "version": 3
   },
   "file_extension": ".py",
   "mimetype": "text/x-python",
   "name": "python",
   "nbconvert_exporter": "python",
   "pygments_lexer": "ipython3",
   "version": "3.12.3"
  }
 },
 "nbformat": 4,
 "nbformat_minor": 2
}
