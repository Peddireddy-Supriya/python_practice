{
 "cells": [
  {
   "cell_type": "code",
   "execution_count": null,
   "metadata": {},
   "outputs": [],
   "source": [
    "#types of arguments \n",
    "#1.positional arguments\n",
    "#2. keyword arguments\n",
    "#3.default arguments \n",
    "#4.variable length arguments  "
   ]
  },
  {
   "cell_type": "code",
   "execution_count": null,
   "metadata": {},
   "outputs": [],
   "source": [
    "''' def f1(a,b):\n",
    "......\n",
    "f1(10,20) here a ,b are formal arguments,10,20 are actual arguments '''"
   ]
  },
  {
   "cell_type": "code",
   "execution_count": 7,
   "metadata": {},
   "outputs": [
    {
     "name": "stdout",
     "output_type": "stream",
     "text": [
      "good morning sai how are you?\n"
     ]
    }
   ],
   "source": [
    "#the number of arguments and positional arguments must be matched if we change the order then the result may be changed \n",
    "def wish (name,msg  ):\n",
    "    print(\"good morning\",name,msg  )\n",
    "wish(\"sai\",\"how are you?\")"
   ]
  },
  {
   "cell_type": "code",
   "execution_count": 8,
   "metadata": {},
   "outputs": [
    {
     "name": "stdout",
     "output_type": "stream",
     "text": [
      "55\n"
     ]
    }
   ],
   "source": [
    "def add(x,y):\n",
    "    print(x+y)\n",
    "add(\"5\",\"5\")"
   ]
  },
  {
   "cell_type": "code",
   "execution_count": 24,
   "metadata": {},
   "outputs": [
    {
     "name": "stdout",
     "output_type": "stream",
     "text": [
      "The subtraction of: 3\n"
     ]
    }
   ],
   "source": [
    "def sub(x,y,z):\n",
    "    print(\"The subtraction of:\",x-y-z)\n",
    "sub(10,5,2)"
   ]
  },
  {
   "cell_type": "code",
   "execution_count": null,
   "metadata": {},
   "outputs": [],
   "source": [
    "#keyword arguments \n",
    "#we can pass argument values by keyword,i.e by parameter name "
   ]
  },
  {
   "cell_type": "code",
   "execution_count": 26,
   "metadata": {},
   "outputs": [
    {
     "name": "stdout",
     "output_type": "stream",
     "text": [
      "hello Mr krishna how are you\n"
     ]
    }
   ],
   "source": [
    "def wish (name,msg):\n",
    "    print(\"hello Mr\",name,msg)\n",
    "wish(msg=\"how are you\",name=\"krishna\")"
   ]
  },
  {
   "cell_type": "code",
   "execution_count": 28,
   "metadata": {},
   "outputs": [
    {
     "name": "stdout",
     "output_type": "stream",
     "text": [
      "-1\n"
     ]
    }
   ],
   "source": [
    "def add(x,y):\n",
    "    print(x-y)\n",
    "add(y=2,x=1)"
   ]
  },
  {
   "cell_type": "code",
   "execution_count": null,
   "metadata": {},
   "outputs": [],
   "source": [
    "#we can use positional arguments and keyword arguments simultaneously  ,but first we have to take positional arguments and then keyword arguments otherwise we will get syntax error"
   ]
  },
  {
   "cell_type": "code",
   "execution_count": 30,
   "metadata": {},
   "outputs": [
    {
     "name": "stdout",
     "output_type": "stream",
     "text": [
      "hello krishna how are you\n"
     ]
    }
   ],
   "source": [
    "def wish (name ,msg):\n",
    "    print(\"hello\",name ,msg)\n",
    "wish(\"krishna\",msg=\"how are you\")"
   ]
  },
  {
   "cell_type": "code",
   "execution_count": 31,
   "metadata": {},
   "outputs": [
    {
     "ename": "SyntaxError",
     "evalue": "positional argument follows keyword argument (358244853.py, line 3)",
     "output_type": "error",
     "traceback": [
      "\u001b[1;36m  Cell \u001b[1;32mIn[31], line 3\u001b[1;36m\u001b[0m\n\u001b[1;33m    wish(msg=\"how are you\",krishna)\u001b[0m\n\u001b[1;37m                                  ^\u001b[0m\n\u001b[1;31mSyntaxError\u001b[0m\u001b[1;31m:\u001b[0m positional argument follows keyword argument\n"
     ]
    }
   ],
   "source": [
    "def wish (name ,msg):\n",
    "    print(\"hello\",name ,msg)\n",
    "wish(msg=\"how are you\",krishna)"
   ]
  }
 ],
 "metadata": {
  "kernelspec": {
   "display_name": "Python 3",
   "language": "python",
   "name": "python3"
  },
  "language_info": {
   "codemirror_mode": {
    "name": "ipython",
    "version": 3
   },
   "file_extension": ".py",
   "mimetype": "text/x-python",
   "name": "python",
   "nbconvert_exporter": "python",
   "pygments_lexer": "ipython3",
   "version": "3.12.3"
  }
 },
 "nbformat": 4,
 "nbformat_minor": 2
}
